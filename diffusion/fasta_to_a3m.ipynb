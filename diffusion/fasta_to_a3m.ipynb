{
 "cells": [
  {
   "cell_type": "markdown",
   "metadata": {},
   "source": [
    "## FASTA-to-A3M Alignment Converter"
   ]
  },
  {
   "cell_type": "code",
   "execution_count": 1,
   "metadata": {},
   "outputs": [],
   "source": [
    "## Converter Function\n",
    "def fasta_to_a3m(input_file, output_file):\n",
    "    sequences = {}\n",
    "    with open(input_file, \"r\") as f:\n",
    "        lines = f.readlines()\n",
    "\n",
    "    current_id = \"\"\n",
    "    current_sequence = \"\"\n",
    "    for line in lines:\n",
    "        if line.startswith(\">\"):\n",
    "            if current_id != \"\":\n",
    "                sequences[current_id] = current_sequence\n",
    "            current_id = line[1:].strip()\n",
    "            current_sequence = \"\"\n",
    "        else:\n",
    "            current_sequence += line.strip()\n",
    "\n",
    "    if current_id != \"\":\n",
    "        sequences[current_id] = current_sequence\n",
    "\n",
    "    with open(output_file, \"w\") as f:\n",
    "        for id, sequence in sequences.items():\n",
    "            f.write(f\">{id}\\n\")\n",
    "            f.write(sequence + \"\\n\")"
   ]
  },
  {
   "cell_type": "code",
   "execution_count": 2,
   "metadata": {},
   "outputs": [],
   "source": [
    "fasta_to_a3m(\"PD1_Hchains_aligned.fasta\", \"PD1_Hchains_aligned.a3m\")"
   ]
  },
  {
   "cell_type": "code",
   "execution_count": 3,
   "metadata": {},
   "outputs": [],
   "source": [
    "fasta_to_a3m(\"PD1_Lchains_aligned.fasta\", \"PD1_Lchains_aligned.a3m\")"
   ]
  },
  {
   "cell_type": "code",
   "execution_count": null,
   "metadata": {},
   "outputs": [],
   "source": []
  }
 ],
 "metadata": {
  "kernelspec": {
   "display_name": "Python 3",
   "language": "python",
   "name": "python3"
  },
  "language_info": {
   "codemirror_mode": {
    "name": "ipython",
    "version": 3
   },
   "file_extension": ".py",
   "mimetype": "text/x-python",
   "name": "python",
   "nbconvert_exporter": "python",
   "pygments_lexer": "ipython3",
   "version": "3.8.2"
  }
 },
 "nbformat": 4,
 "nbformat_minor": 2
}
