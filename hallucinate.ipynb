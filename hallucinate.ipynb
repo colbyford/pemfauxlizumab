{
 "cells": [
  {
   "cell_type": "markdown",
   "metadata": {},
   "source": [
    "# Protein Structure Hallucination with AlphaFold2\n",
    "## Hallucinating a Pembrolizumab-Like Fab Structure\n",
    "\n",
    "----------------------"
   ]
  },
  {
   "cell_type": "markdown",
   "metadata": {},
   "source": [
    "### Install ColabDesign for AlphaFold2 and Import System Libraries"
   ]
  },
  {
   "cell_type": "code",
   "execution_count": null,
   "metadata": {},
   "outputs": [],
   "source": [
    "#@title install\n",
    "%%bash\n",
    "if [ ! -d af_backprop ]; then\n",
    "  git clone https://github.com/sokrypton/af_backprop.git\n",
    "  pip -q install biopython dm-haiku==0.0.5 ml-collections py3Dmol\n",
    "fi\n",
    "if [ ! -d params ]; then\n",
    "  mkdir params\n",
    "  curl -fsSL https://storage.googleapis.com/alphafold/alphafold_params_2021-07-14.tar | tar x -C params\n",
    "fi\n",
    "wget -qnc https://raw.githubusercontent.com/sokrypton/ColabFold/main/beta/colabfold.py\n",
    "wget -qnc https://raw.githubusercontent.com/sokrypton/ColabDesign/main/af/design.py"
   ]
  },
  {
   "cell_type": "code",
   "execution_count": null,
   "metadata": {},
   "outputs": [],
   "source": [
    "#@title import libraries\n",
    "import sys\n",
    "sys.path.append('/content/af_backprop')\n",
    "\n",
    "import os\n",
    "from google.colab import files\n",
    "import numpy as np\n",
    "from IPython.display import HTML\n",
    "from design import mk_design_model, clear_mem\n",
    "\n",
    "#########################\n",
    "def get_pdb(pdb_code=\"\"):\n",
    "  if pdb_code is None or pdb_code == \"\":\n",
    "    upload_dict = files.upload()\n",
    "    pdb_string = upload_dict[list(upload_dict.keys())[0]]\n",
    "    with open(\"tmp.pdb\",\"wb\") as out: out.write(pdb_string)\n",
    "    return \"tmp.pdb\"\n",
    "  else:\n",
    "    os.system(f\"wget -qnc https://files.rcsb.org/view/{pdb_code}.pdb\")\n",
    "    return f\"{pdb_code}.pdb\""
   ]
  },
  {
   "cell_type": "markdown",
   "metadata": {},
   "source": [
    "## Hallucinate Light Chain"
   ]
  },
  {
   "cell_type": "code",
   "execution_count": null,
   "metadata": {},
   "outputs": [],
   "source": [
    "clear_mem()\n",
    "model = mk_design_model(protocol=\"fixbb\")\n",
    "model.prep_inputs(pdb_filename=get_pdb(\"5JXE\"), chain=\"C\")\n",
    "\n",
    "print(\"length\",  model._len)\n",
    "print(\"weights\", model.opt[\"weights\"])"
   ]
  },
  {
   "cell_type": "code",
   "execution_count": null,
   "metadata": {},
   "outputs": [],
   "source": [
    "model.design_3stage()"
   ]
  },
  {
   "cell_type": "code",
   "execution_count": null,
   "metadata": {},
   "outputs": [],
   "source": [
    "model.save_pdb(f\"{model.protocol}_c_light.pdb\")"
   ]
  },
  {
   "cell_type": "markdown",
   "metadata": {},
   "source": [
    "## Hallucinate Heavy Chain"
   ]
  },
  {
   "cell_type": "code",
   "execution_count": null,
   "metadata": {},
   "outputs": [],
   "source": [
    "clear_mem()\n",
    "model = mk_design_model(protocol=\"fixbb\")\n",
    "model.prep_inputs(pdb_filename=get_pdb(\"5JXE\"), chain=\"D\")\n",
    "\n",
    "print(\"length\",  model._len)\n",
    "print(\"weights\", model.opt[\"weights\"])"
   ]
  },
  {
   "cell_type": "code",
   "execution_count": null,
   "metadata": {},
   "outputs": [],
   "source": [
    "model.design_3stage()"
   ]
  },
  {
   "cell_type": "code",
   "execution_count": null,
   "metadata": {},
   "outputs": [],
   "source": [
    "model.save_pdb(f\"{model.protocol}_d_heavy.pdb\")"
   ]
  }
 ],
 "metadata": {
  "language_info": {
   "name": "python"
  },
  "orig_nbformat": 4
 },
 "nbformat": 4,
 "nbformat_minor": 2
}
